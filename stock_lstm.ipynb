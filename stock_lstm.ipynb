{
  "nbformat": 4,
  "nbformat_minor": 0,
  "metadata": {
    "colab": {
      "name": "stock_lstm.ipynb",
      "provenance": [],
      "collapsed_sections": [],
      "authorship_tag": "ABX9TyNSt4chreEMwBc5VwlRtslW",
      "include_colab_link": true
    },
    "kernelspec": {
      "name": "python3",
      "display_name": "Python 3"
    },
    "language_info": {
      "name": "python"
    }
  },
  "cells": [
    {
      "cell_type": "markdown",
      "metadata": {
        "id": "view-in-github",
        "colab_type": "text"
      },
      "source": [
        "<a href=\"https://colab.research.google.com/github/suminpixel/computer-vision-class/blob/main/stock_lstm.ipynb\" target=\"_parent\"><img src=\"https://colab.research.google.com/assets/colab-badge.svg\" alt=\"Open In Colab\"/></a>"
      ]
    },
    {
      "cell_type": "code",
      "metadata": {
        "colab": {
          "base_uri": "https://localhost:8080/"
        },
        "id": "a4RNaaPhurgV",
        "outputId": "17a2f029-8bc0-4fdf-8477-76c630dd9c23"
      },
      "source": [
        "!mkdir dataset #lstm\n",
        "!pip install gdown"
      ],
      "execution_count": 4,
      "outputs": [
        {
          "output_type": "stream",
          "text": [
            "Requirement already satisfied: gdown in /usr/local/lib/python3.7/dist-packages (3.6.4)\n",
            "Requirement already satisfied: six in /usr/local/lib/python3.7/dist-packages (from gdown) (1.15.0)\n",
            "Requirement already satisfied: requests in /usr/local/lib/python3.7/dist-packages (from gdown) (2.23.0)\n",
            "Requirement already satisfied: tqdm in /usr/local/lib/python3.7/dist-packages (from gdown) (4.41.1)\n",
            "Requirement already satisfied: idna<3,>=2.5 in /usr/local/lib/python3.7/dist-packages (from requests->gdown) (2.10)\n",
            "Requirement already satisfied: urllib3!=1.25.0,!=1.25.1,<1.26,>=1.21.1 in /usr/local/lib/python3.7/dist-packages (from requests->gdown) (1.24.3)\n",
            "Requirement already satisfied: chardet<4,>=3.0.2 in /usr/local/lib/python3.7/dist-packages (from requests->gdown) (3.0.4)\n",
            "Requirement already satisfied: certifi>=2017.4.17 in /usr/local/lib/python3.7/dist-packages (from requests->gdown) (2020.12.5)\n"
          ],
          "name": "stdout"
        }
      ]
    },
    {
      "cell_type": "code",
      "metadata": {
        "colab": {
          "base_uri": "https://localhost:8080/"
        },
        "id": "bcr67BwlvBjh",
        "outputId": "9f20587c-83de-418a-f856-67d0b9811776"
      },
      "source": [
        "!gdown --id 1GyR-SosHKXFVpAWIV7Smotz3sp7l5vQE --output dataset/stock_samsung.csv"
      ],
      "execution_count": 5,
      "outputs": [
        {
          "output_type": "stream",
          "text": [
            "Downloading...\n",
            "From: https://drive.google.com/uc?id=1GyR-SosHKXFVpAWIV7Smotz3sp7l5vQE\n",
            "To: /content/dataset/stock_samsung.csv\n",
            "\r  0% 0.00/104k [00:00<?, ?B/s]\r100% 104k/104k [00:00<00:00, 38.4MB/s]\n"
          ],
          "name": "stdout"
        }
      ]
    },
    {
      "cell_type": "code",
      "metadata": {
        "colab": {
          "base_uri": "https://localhost:8080/",
          "height": 945
        },
        "id": "nuDfkIv9vCxC",
        "outputId": "b24db0b2-5437-4c4f-ecb0-54f212b3ef82"
      },
      "source": [
        "import pandas as pd\n",
        "import numpy as np\n",
        "import matplotlib.pyplot as plt\n",
        "from keras.models import Sequential\n",
        "from keras.layers import LSTM, Dropout, Dense, Activation\n",
        "import datetime\n",
        "\n",
        "data = pd.read_csv('dataset/stock_samsung.csv') #데이터 유효성 검사\n",
        "data.head() #상위 다섯개 정도 출력\n",
        "\n",
        "high_prices = data['High'].values\n",
        "low_prices = data['Low'].values\n",
        "mid_prices = (high_prices + low_prices) / 2\n",
        "\n",
        "#lstm 에서 window 라는 개념 => LSTM의 기본인 이전데이터를 '얼마나(윈도우 사이즈, 하이퍼 파라미터)' 가지고 와서 어떻게 학습할래 \n",
        "seq_len = 50 #windows size\n",
        "sequence_length = seq_len + 1\n",
        "\n",
        "result = []\n",
        "for index in range(len(mid_prices) - sequence_length) :\n",
        "  result.append(mid_prices[index: index+sequence_length])\n",
        "\n",
        "#노말라이제이션\n",
        "normalized_data = []\n",
        "for window in result :\n",
        "  normalized_window = [(float(p) / float(window[0]) - 1) for p in window]\n",
        "  normalized_data.append(normalized_window)\n",
        "\n",
        "result = np.array(normalized_data)\n",
        "\n",
        "#트레이닝 데이터 생성\n",
        "#데이터의 90% 정도 테스트 셋, 10%정도 test\n",
        "row = int(round(result.shape[0] * 0.9))\n",
        "train = result[:row, :]\n",
        "np.random.shuffle(train)\n",
        "\n",
        "#트레이닝 위한 90%\n",
        "x_train = train[:, :-1] #50개\n",
        "x_train = np.reshape(x_train, (x_train.shape[0], x_train.shape[1], 1))\n",
        "y_train = train[:, -1] #1개 \n",
        "\n",
        "#검증을 위한 10%\n",
        "x_test = result[row:, :-1] #50개\n",
        "x_test = np.reshape(x_test, (x_test.shape[0], x_test.shape[1], 1))\n",
        "y_test = result[row:, -1] #개\n",
        "\n",
        "x_train.shape, x_test.shape\n",
        "\n",
        "model = Sequential()\n",
        "\n",
        "#model.add(LSTM(50, return_sequences=True, input_shape(50, 1)))\n",
        "model.add(LSTM(64, return_sequences=False))\n",
        "\n",
        "model.add(Dense(1, activation='linear')) #예측 데이터\n",
        "model.compile(loss='mse', optimizer='rmsprop') #에러체크 #loss 율 0.12 이상 넘어가면 상용화 불가...\n",
        "#model.summary()\n",
        "\n",
        "model.fit(x_train, y_train, validation_data=(x_test, y_test), batch_size=10, epochs=20) #batch size 10으로 20번 반복할거야 \n",
        "\n",
        "\n",
        "pred = model.predict(x_test)\n",
        "\n",
        "fig = plt.figure(facecolor='white')\n",
        "\n",
        "ax = fig.add_subplot(111)\n",
        "ax.plot(y_test, label='Origin')\n",
        "ax.plot(pred, label='Prediction')\n",
        "\n",
        "ax.legend()\n",
        "plt.show()\n"
      ],
      "execution_count": 25,
      "outputs": [
        {
          "output_type": "stream",
          "text": [
            "Epoch 1/20\n",
            "106/106 [==============================] - 5s 25ms/step - loss: nan - val_loss: nan\n",
            "Epoch 2/20\n",
            "106/106 [==============================] - 2s 21ms/step - loss: nan - val_loss: nan\n",
            "Epoch 3/20\n",
            "106/106 [==============================] - 2s 21ms/step - loss: nan - val_loss: nan\n",
            "Epoch 4/20\n",
            "106/106 [==============================] - 2s 21ms/step - loss: nan - val_loss: nan\n",
            "Epoch 5/20\n",
            "106/106 [==============================] - 2s 21ms/step - loss: nan - val_loss: nan\n",
            "Epoch 6/20\n",
            "106/106 [==============================] - 2s 21ms/step - loss: nan - val_loss: nan\n",
            "Epoch 7/20\n",
            "106/106 [==============================] - 2s 21ms/step - loss: nan - val_loss: nan\n",
            "Epoch 8/20\n",
            "106/106 [==============================] - 2s 21ms/step - loss: nan - val_loss: nan\n",
            "Epoch 9/20\n",
            "106/106 [==============================] - 2s 21ms/step - loss: nan - val_loss: nan\n",
            "Epoch 10/20\n",
            "106/106 [==============================] - 2s 21ms/step - loss: nan - val_loss: nan\n",
            "Epoch 11/20\n",
            "106/106 [==============================] - 2s 21ms/step - loss: nan - val_loss: nan\n",
            "Epoch 12/20\n",
            "106/106 [==============================] - 2s 21ms/step - loss: nan - val_loss: nan\n",
            "Epoch 13/20\n",
            "106/106 [==============================] - 2s 21ms/step - loss: nan - val_loss: nan\n",
            "Epoch 14/20\n",
            "106/106 [==============================] - 2s 21ms/step - loss: nan - val_loss: nan\n",
            "Epoch 15/20\n",
            "106/106 [==============================] - 2s 21ms/step - loss: nan - val_loss: nan\n",
            "Epoch 16/20\n",
            "106/106 [==============================] - 2s 21ms/step - loss: nan - val_loss: nan\n",
            "Epoch 17/20\n",
            "106/106 [==============================] - 2s 21ms/step - loss: nan - val_loss: nan\n",
            "Epoch 18/20\n",
            "106/106 [==============================] - 2s 21ms/step - loss: nan - val_loss: nan\n",
            "Epoch 19/20\n",
            "106/106 [==============================] - 2s 22ms/step - loss: nan - val_loss: nan\n",
            "Epoch 20/20\n",
            "106/106 [==============================] - 2s 21ms/step - loss: nan - val_loss: nan\n"
          ],
          "name": "stdout"
        },
        {
          "output_type": "display_data",
          "data": {
            "image/png": "[encoded data removed]",
            "text/plain": [
              "<Figure size 432x288 with 1 Axes>"
            ]
          },
          "metadata": {
            "tags": []
          }
        }
      ]
    }
  ]
}